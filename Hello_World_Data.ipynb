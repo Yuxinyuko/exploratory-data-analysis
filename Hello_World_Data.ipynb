{
  "nbformat": 4,
  "nbformat_minor": 0,
  "metadata": {
    "colab": {
      "name": "Hello-World-Data.ipynb",
      "provenance": [],
      "authorship_tag": "ABX9TyON/N22vZEZQFds3EQgcXtx",
      "include_colab_link": true
    },
    "kernelspec": {
      "name": "python3",
      "display_name": "Python 3"
    }
  },
  "cells": [
    {
      "cell_type": "markdown",
      "metadata": {
        "id": "view-in-github",
        "colab_type": "text"
      },
      "source": [
        "<a href=\"https://colab.research.google.com/github/noahgift/exploratory-data-analysis/blob/main/Hello_World_Data.ipynb\" target=\"_parent\"><img src=\"https://colab.research.google.com/assets/colab-badge.svg\" alt=\"Open In Colab\"/></a>"
      ]
    },
    {
      "cell_type": "markdown",
      "metadata": {
        "id": "M9K54rvrjjix"
      },
      "source": [
        "## Ingest Data"
      ]
    },
    {
      "cell_type": "markdown",
      "metadata": {
        "id": "KxXk15XIjtxk"
      },
      "source": [
        "This will download the book"
      ]
    },
    {
      "cell_type": "code",
      "metadata": {
        "colab": {
          "base_uri": "https://localhost:8080/"
        },
        "id": "vOdJ6Sc8jdzV",
        "outputId": "fe1a486e-52ad-4d94-cc11-c3202f88db9c"
      },
      "source": [
        "!wget https://raw.githubusercontent.com/noahgift/exploratory-data-analysis/main/oldmansea-book.txt"
      ],
      "execution_count": 1,
      "outputs": [
        {
          "output_type": "stream",
          "text": [
            "--2021-02-20 13:09:20--  https://raw.githubusercontent.com/noahgift/exploratory-data-analysis/main/oldmansea-book.txt\n",
            "Resolving raw.githubusercontent.com (raw.githubusercontent.com)... 185.199.110.133, 185.199.111.133, 185.199.108.133, ...\n",
            "Connecting to raw.githubusercontent.com (raw.githubusercontent.com)|185.199.110.133|:443... connected.\n",
            "HTTP request sent, awaiting response... 200 OK\n",
            "Length: 134521 (131K) [text/plain]\n",
            "Saving to: ‘oldmansea-book.txt’\n",
            "\n",
            "oldmansea-book.txt  100%[===================>] 131.37K  --.-KB/s    in 0.03s   \n",
            "\n",
            "2021-02-20 13:09:20 (5.02 MB/s) - ‘oldmansea-book.txt’ saved [134521/134521]\n",
            "\n"
          ],
          "name": "stdout"
        }
      ]
    },
    {
      "cell_type": "code",
      "metadata": {
        "colab": {
          "base_uri": "https://localhost:8080/"
        },
        "id": "0u1KY3tIjv_R",
        "outputId": "c9bdaf37-b2ba-429f-a75f-1db2efb96000"
      },
      "source": [
        "!head oldmansea-book.txt"
      ],
      "execution_count": 2,
      "outputs": [
        {
          "output_type": "stream",
          "text": [
            "THE OLD MAN AND THE SEA\n",
            "\n",
            "\n",
            "\n",
            "\n",
            "He was an old man who fished alone in a skiff in the Gulf Stream and he\n",
            "had gone eighty-four days now without taking a fish.  In the first\n",
            "forty days a boy had been with him.  But after forty days without a\n",
            "fish the boy's parents had told him that the old man was now definitely\n",
            "and finally _salao_, which is the worst form of unlucky, and the boy\n"
          ],
          "name": "stdout"
        }
      ]
    },
    {
      "cell_type": "code",
      "metadata": {
        "colab": {
          "base_uri": "https://localhost:8080/"
        },
        "id": "gRLkXJhDj7Zq",
        "outputId": "cd95bce3-16cf-4265-ebd8-10c264c48484"
      },
      "source": [
        "!tail oldmansea-book.txt"
      ],
      "execution_count": 3,
      "outputs": [
        {
          "output_type": "stream",
          "text": [
            "had happened.\n",
            "\n",
            "\"I didn't know sharks had such handsome, beautifully formed tails.\"\n",
            "\n",
            "\"I didn't either,\" her male companion said.\n",
            "\n",
            "Up the road, in his shack, the old man was sleeping again.  He was\n",
            "still sleeping on his face and the boy was sitting by him watching him.\n",
            "The old man was dreaming about the lions.\n",
            "\n"
          ],
          "name": "stdout"
        }
      ]
    },
    {
      "cell_type": "code",
      "metadata": {
        "id": "82cdjUFXj-LP"
      },
      "source": [
        ""
      ],
      "execution_count": null,
      "outputs": []
    }
  ]
}